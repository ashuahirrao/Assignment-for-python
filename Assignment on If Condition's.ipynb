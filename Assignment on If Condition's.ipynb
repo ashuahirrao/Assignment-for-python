{
 "cells": [
  {
   "cell_type": "markdown",
   "id": "025f8fa6",
   "metadata": {},
   "source": [
    "Q1)\tWhat is the output of the following if statement\n",
    "      a, b = 12, 5\n",
    "if a + b:\n",
    "    print('True')\n",
    "else:\n",
    "  print('False')\n",
    "Output= True\n"
   ]
  },
  {
   "cell_type": "code",
   "execution_count": 1,
   "id": "1c051396",
   "metadata": {},
   "outputs": [
    {
     "name": "stdout",
     "output_type": "stream",
     "text": [
      "True\n"
     ]
    }
   ],
   "source": [
    "a, b = 12, 5\n",
    "if a + b:\n",
    "    print('True')\n",
    "else:\n",
    "    print('False')\n"
   ]
  },
  {
   "cell_type": "markdown",
   "id": "a983537e",
   "metadata": {},
   "source": [
    "Q2)\tGiven the nested if-else structure below, what will be the value of x after code execution completes\n",
    "   x = 0\n",
    "a = 0\n",
    "b = -5\n",
    "if a > 0:\n",
    "    if b < 0: \n",
    "        x = x + 5 \n",
    "    elif a > 5:\n",
    "        x = x + 4\n",
    "    else:\n",
    "        x = x + 3\n",
    "else:\n",
    "    x = x + 2\n",
    "print(x)\n",
    "Output = 2"
   ]
  },
  {
   "cell_type": "code",
   "execution_count": 2,
   "id": "f3458cdb",
   "metadata": {},
   "outputs": [
    {
     "name": "stdout",
     "output_type": "stream",
     "text": [
      "2\n"
     ]
    }
   ],
   "source": [
    "x = 0\n",
    "a = 0\n",
    "b = -5\n",
    "if a > 0:\n",
    "    if b < 0: \n",
    "        x = x + 5 \n",
    "    elif a > 5:\n",
    "        x = x + 4\n",
    "    else:\n",
    "        x = x + 3\n",
    "else:\n",
    "    x = x + 2\n",
    "print(x)\n"
   ]
  },
  {
   "cell_type": "markdown",
   "id": "beb17dce",
   "metadata": {},
   "source": [
    "Q3)\tGiven the nested if-else below, what will be the value x when the code executed successfully\n",
    "    \n",
    "     x = 0\n",
    "a = 5\n",
    "b = 5\n",
    "if a > 0:\n",
    "    if b < 0: \n",
    "        x = x + 5 \n",
    "    elif a > 5:\n",
    "        x = x + 4\n",
    "    else:\n",
    "        x = x + 3\n",
    "else:\n",
    "    x = x + 2\n",
    "print(x)\n",
    "Output = 3"
   ]
  },
  {
   "cell_type": "code",
   "execution_count": 3,
   "id": "1fad6b7e",
   "metadata": {},
   "outputs": [
    {
     "name": "stdout",
     "output_type": "stream",
     "text": [
      "3\n"
     ]
    }
   ],
   "source": [
    "x = 0\n",
    "a = 5\n",
    "b = 5\n",
    "if a > 0:\n",
    "    if b < 0: \n",
    "        x = x + 5 \n",
    "    elif a > 5:\n",
    "        x = x + 4\n",
    "    else:\n",
    "        x = x + 3\n",
    "else:\n",
    "    x = x + 2\n",
    "print(x)\n"
   ]
  },
  {
   "cell_type": "markdown",
   "id": "fe4e3d09",
   "metadata": {},
   "source": [
    "Q4)\tA school has following rules for grading system:\n",
    "a. Below 25 - F\n",
    "b. 25 to 45 - E\n",
    "c. 45 to 50 - D\n",
    "d. 50 to 60 - C\n",
    "e. 60 to 80 - B\n",
    "f. Above 80 - A\n",
    "Ask user to enter marks and print the corresponding grade.\n",
    "\n"
   ]
  },
  {
   "cell_type": "code",
   "execution_count": 52,
   "id": "5c4665e7",
   "metadata": {},
   "outputs": [
    {
     "name": "stdout",
     "output_type": "stream",
     "text": [
      "Enter marks\n",
      "40\n",
      "E\n"
     ]
    }
   ],
   "source": [
    "print (\"Enter marks\")\n",
    "marks = input()\n",
    "if marks < ('25'):\n",
    "  print (\"F\")\n",
    "elif marks >=('25') and marks<('45'):\n",
    "  print (\"E\")\n",
    "elif marks >=('45') and marks<('50'):\n",
    "  print (\"D\")\n",
    "elif marks >=('50') and marks<('60'):\n",
    "  print( \"C\")\n",
    "elif marks >=('60') and marks<('80'):\n",
    "  print (\"B\")\n",
    "else:\n",
    "  print ('A')\n",
    "\n"
   ]
  },
  {
   "cell_type": "markdown",
   "id": "936f2728",
   "metadata": {},
   "source": [
    "Q5)\tA shop will give discount of 10% if the cost of purchased quantity is more than 1000.\n",
    "Ask user for quantity\n",
    "Suppose, one unit will cost 100.\n",
    "Judge and print total cost for user.\n"
   ]
  },
  {
   "cell_type": "code",
   "execution_count": null,
   "id": "ea8b1b17",
   "metadata": {},
   "outputs": [],
   "source": [
    "\n",
    "Quantity= input(\"Enter Quantity\")\n",
    "Cost = 100\n",
    "totalCost= Quantity*Cost\n",
    "\n",
    "if totalCost >('1000'):\n",
    "    totalCost = totalCost-0.1*totalCost\n",
    "    print('your total cost is {} with 10 % discount'.format(totalCost))\n"
   ]
  },
  {
   "cell_type": "markdown",
   "id": "ca846ef3",
   "metadata": {},
   "source": [
    "Q6)Write a program to print absolute value of a number entered by user. E.g.-\n",
    "INPUT: 1        OUTPUT: 1\n",
    "INPUT: -1        OUTPUT: 1\n",
    "\n"
   ]
  },
  {
   "cell_type": "code",
   "execution_count": 13,
   "id": "9ebf8a1c",
   "metadata": {},
   "outputs": [
    {
     "name": "stdout",
     "output_type": "stream",
     "text": [
      "1\n",
      "1\n",
      "-1\n",
      "1\n"
     ]
    }
   ],
   "source": [
    "x=float(input())\n",
    "x=abs(x)\n",
    "if(x%1.0):          \n",
    "    print(x)\n",
    "else:\n",
    "    print(int(x)) \n",
    "\n",
    "x=float(input())\n",
    "x=abs(x)\n",
    "if(x%1.0):          \n",
    "    print(x)\n",
    "else:\n",
    "    print(int(x)) "
   ]
  },
  {
   "cell_type": "markdown",
   "id": "085025a9",
   "metadata": {},
   "source": [
    "Q7)Write a Python program that accepts a string and calculate the number of digits and letters.\n",
    "Sample Data : Python 3.2\n",
    "Expected Output :\n",
    "Letters 6\n",
    "Digits 2\n",
    "\n"
   ]
  },
  {
   "cell_type": "code",
   "execution_count": 4,
   "id": "58282095",
   "metadata": {},
   "outputs": [
    {
     "name": "stdout",
     "output_type": "stream",
     "text": [
      "Input a string: Python 3.2 \n",
      "Letters 6\n",
      "Digits 2\n"
     ]
    }
   ],
   "source": [
    "str = input(\"Input a string: \")\n",
    "d=l=0\n",
    "for c in str:\n",
    "    if c.isdigit():\n",
    "        d=d+1\n",
    "    elif c.isalpha():\n",
    "        l=l+1\n",
    "    else:\n",
    "        pass\n",
    "print(\"Letters\", l)\n",
    "print(\"Digits\", d)"
   ]
  },
  {
   "cell_type": "markdown",
   "id": "cb890d62",
   "metadata": {},
   "source": [
    "Q8)Write a Python program to check whether an alphabet is a vowel or consonant. \n",
    "Expected Output:\n",
    "Input a letter of the alphabet: k                                       \n",
    "k is a consonant.\n"
   ]
  },
  {
   "cell_type": "code",
   "execution_count": 5,
   "id": "021bf740",
   "metadata": {},
   "outputs": [],
   "source": [
    "def vowel_cons(k):\n",
    "    if 'k' in 'aieou':\n",
    "        print('k is a vowel')\n",
    "    else:\n",
    "        print('k is a consonant')"
   ]
  },
  {
   "cell_type": "code",
   "execution_count": 6,
   "id": "cacdaca4",
   "metadata": {},
   "outputs": [
    {
     "name": "stdout",
     "output_type": "stream",
     "text": [
      "k is a consonant\n"
     ]
    }
   ],
   "source": [
    "vowel_cons('k')"
   ]
  },
  {
   "cell_type": "markdown",
   "id": "19b80e72",
   "metadata": {},
   "source": [
    "Q9)\tWrite a Python program to check a triangle is equilateral, isosceles or scalene. Go to the editor\n",
    "Note :\n",
    "An equilateral triangle is a triangle in which all three sides are equal.\n",
    "A scalene triangle is a triangle that has three unequal sides.\n",
    "An isosceles triangle is a triangle with (at least) two equal sides.\n",
    "Expected Output:\n",
    "Input lengths of the triangle sides:                                    \n",
    "x: 6                                                                    \n",
    "y: 8                                                                    \n",
    "z: 12                                                                   \n",
    "Scalene triangle \n",
    "\n"
   ]
  },
  {
   "cell_type": "code",
   "execution_count": 7,
   "id": "5495df37",
   "metadata": {},
   "outputs": [
    {
     "name": "stdout",
     "output_type": "stream",
     "text": [
      "Input lengths of the triangle sides: \n",
      "x: 6\n",
      "y: 8\n",
      "z: 12\n",
      "Scalene triangle\n"
     ]
    }
   ],
   "source": [
    "print(\"Input lengths of the triangle sides: \")\n",
    "x = int(input(\"x: \"))\n",
    "y = int(input(\"y: \"))\n",
    "z = int(input(\"z: \"))\n",
    "\n",
    "if x == y == z:\n",
    "    print(\"Equilateral triangle\")\n",
    "elif x==y or y==z or z==x:\n",
    "    print(\"isosceles triangle\")\n",
    "else:\n",
    "    print(\"Scalene triangle\")\n"
   ]
  },
  {
   "cell_type": "markdown",
   "id": "430f2ca3",
   "metadata": {},
   "source": [
    "Q10)Write an If elif else condition for finding the largest number in 3 numbers"
   ]
  },
  {
   "cell_type": "code",
   "execution_count": 9,
   "id": "83c66b68",
   "metadata": {},
   "outputs": [],
   "source": [
    "num1 = 5\n",
    "num2 = 3\n",
    "num3 = 9"
   ]
  },
  {
   "cell_type": "code",
   "execution_count": 10,
   "id": "b615412c",
   "metadata": {},
   "outputs": [
    {
     "name": "stdout",
     "output_type": "stream",
     "text": [
      "largest number=  9\n"
     ]
    }
   ],
   "source": [
    "if (num1>=num2) and (num1>=num3):\n",
    "     largest = num1\n",
    "elif (num2>=num1) and (num2>=num3):\n",
    "     largest = num2\n",
    "else:\n",
    "    \n",
    "       largest = num3\n",
    "print('largest number= ',largest)"
   ]
  },
  {
   "cell_type": "code",
   "execution_count": null,
   "id": "12c999d8",
   "metadata": {},
   "outputs": [],
   "source": []
  },
  {
   "cell_type": "code",
   "execution_count": null,
   "id": "b8a5ecef",
   "metadata": {},
   "outputs": [],
   "source": []
  },
  {
   "cell_type": "code",
   "execution_count": null,
   "id": "48adbf9a",
   "metadata": {},
   "outputs": [],
   "source": []
  },
  {
   "cell_type": "code",
   "execution_count": null,
   "id": "a5fd64e2",
   "metadata": {},
   "outputs": [],
   "source": []
  },
  {
   "cell_type": "code",
   "execution_count": null,
   "id": "90d640cc",
   "metadata": {},
   "outputs": [],
   "source": []
  },
  {
   "cell_type": "code",
   "execution_count": null,
   "id": "b4cacf6d",
   "metadata": {},
   "outputs": [],
   "source": []
  }
 ],
 "metadata": {
  "kernelspec": {
   "display_name": "Python 3 (ipykernel)",
   "language": "python",
   "name": "python3"
  },
  "language_info": {
   "codemirror_mode": {
    "name": "ipython",
    "version": 3
   },
   "file_extension": ".py",
   "mimetype": "text/x-python",
   "name": "python",
   "nbconvert_exporter": "python",
   "pygments_lexer": "ipython3",
   "version": "3.9.7"
  }
 },
 "nbformat": 4,
 "nbformat_minor": 5
}
