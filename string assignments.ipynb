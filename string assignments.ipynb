{
 "cells": [
  {
   "cell_type": "markdown",
   "id": "8b64d065",
   "metadata": {},
   "source": [
    "Q1)Which method/inbuilt function should I use to convert String \"welcome to the beautiful world of python\" to \"Welcome To The Beautiful World Of Python\"."
   ]
  },
  {
   "cell_type": "code",
   "execution_count": 24,
   "id": "b1788e77",
   "metadata": {},
   "outputs": [
    {
     "name": "stdout",
     "output_type": "stream",
     "text": [
      "Welcome To The Beautiful World Of Python\n"
     ]
    }
   ],
   "source": [
    "str1 =\"welcome to the beautiful world of python\"\n",
    "str2 = str1.title()\n",
    "print(str2)"
   ]
  },
  {
   "cell_type": "markdown",
   "id": "586689d3",
   "metadata": {},
   "source": [
    "Q2)Split a given string on hyphens into several substrings\n",
    "     #str1 = Emma-is-a-data-scientist\n"
   ]
  },
  {
   "cell_type": "code",
   "execution_count": 65,
   "id": "e8ba6aaf",
   "metadata": {},
   "outputs": [
    {
     "data": {
      "text/plain": [
       "['Emma', 'is', 'a', 'data', 'scientist']"
      ]
     },
     "execution_count": 65,
     "metadata": {},
     "output_type": "execute_result"
    }
   ],
   "source": [
    "str1 = \"Emma-is-a-data-scientist\"\n",
    "str1.split('-',maxsplit=4)"
   ]
  },
  {
   "cell_type": "markdown",
   "id": "d5e05889",
   "metadata": {},
   "source": [
    "Q3)Remove empty strings from a list of strings\n",
    " str_list = [\"Emma\", \"Jon\", \"\", \"Kelly\", None, \"Eric\", \"\"]\n"
   ]
  },
  {
   "cell_type": "code",
   "execution_count": 27,
   "id": "70c872b7",
   "metadata": {},
   "outputs": [],
   "source": [
    "str_list = [\"Emma\", \"Jon\", \"\", \"Kelly\", None, \"Eric\", \"\"]"
   ]
  },
  {
   "cell_type": "code",
   "execution_count": 28,
   "id": "550d3446",
   "metadata": {},
   "outputs": [],
   "source": [
    "str_list.remove(\"\")"
   ]
  },
  {
   "cell_type": "code",
   "execution_count": 29,
   "id": "b8962f05",
   "metadata": {},
   "outputs": [
    {
     "data": {
      "text/plain": [
       "['Emma', 'Jon', 'Kelly', None, 'Eric', '']"
      ]
     },
     "execution_count": 29,
     "metadata": {},
     "output_type": "execute_result"
    }
   ],
   "source": [
    "str_list "
   ]
  },
  {
   "cell_type": "markdown",
   "id": "ed4beafd",
   "metadata": {},
   "source": [
    "Q4)Create an string and execute the following inbuilt functions on it.\n",
    " upper, lower, capitalize, split, join, isnumeric, isalpha, isdigit, count, isalnum.\n",
    "\n"
   ]
  },
  {
   "cell_type": "code",
   "execution_count": 47,
   "id": "0566d304",
   "metadata": {},
   "outputs": [],
   "source": [
    "str1 = \"Masha Is Cute Baby And She Is 1 Year Old\""
   ]
  },
  {
   "cell_type": "code",
   "execution_count": 32,
   "id": "7ea5ef5e",
   "metadata": {},
   "outputs": [
    {
     "data": {
      "text/plain": [
       "'MASHA IS CUTE BABY AND SHE IS 1 YEAR OLD'"
      ]
     },
     "execution_count": 32,
     "metadata": {},
     "output_type": "execute_result"
    }
   ],
   "source": [
    "str1.upper()"
   ]
  },
  {
   "cell_type": "code",
   "execution_count": 33,
   "id": "316f3b93",
   "metadata": {},
   "outputs": [
    {
     "data": {
      "text/plain": [
       "'masha is cute baby and she is 1 year old'"
      ]
     },
     "execution_count": 33,
     "metadata": {},
     "output_type": "execute_result"
    }
   ],
   "source": [
    "str1.lower()"
   ]
  },
  {
   "cell_type": "code",
   "execution_count": 34,
   "id": "fc13d7dc",
   "metadata": {},
   "outputs": [
    {
     "data": {
      "text/plain": [
       "'Masha is cute baby and she is 1 year old'"
      ]
     },
     "execution_count": 34,
     "metadata": {},
     "output_type": "execute_result"
    }
   ],
   "source": [
    "str1.capitalize()"
   ]
  },
  {
   "cell_type": "code",
   "execution_count": 35,
   "id": "df5f3685",
   "metadata": {},
   "outputs": [
    {
     "data": {
      "text/plain": [
       "['Masha', 'Is', 'Cute', 'Baby', 'And', 'She', 'Is', '1', 'Year', 'Old']"
      ]
     },
     "execution_count": 35,
     "metadata": {},
     "output_type": "execute_result"
    }
   ],
   "source": [
    "str1.split()"
   ]
  },
  {
   "cell_type": "code",
   "execution_count": 36,
   "id": "073d2691",
   "metadata": {},
   "outputs": [
    {
     "data": {
      "text/plain": [
       "False"
      ]
     },
     "execution_count": 36,
     "metadata": {},
     "output_type": "execute_result"
    }
   ],
   "source": [
    "str1.isnumeric()"
   ]
  },
  {
   "cell_type": "code",
   "execution_count": 37,
   "id": "98ccb0e4",
   "metadata": {},
   "outputs": [
    {
     "data": {
      "text/plain": [
       "False"
      ]
     },
     "execution_count": 37,
     "metadata": {},
     "output_type": "execute_result"
    }
   ],
   "source": [
    "str1.isalpha()"
   ]
  },
  {
   "cell_type": "code",
   "execution_count": 38,
   "id": "b79bd6d3",
   "metadata": {},
   "outputs": [
    {
     "data": {
      "text/plain": [
       "False"
      ]
     },
     "execution_count": 38,
     "metadata": {},
     "output_type": "execute_result"
    }
   ],
   "source": [
    "str1.isdigit()"
   ]
  },
  {
   "cell_type": "code",
   "execution_count": 56,
   "id": "e374fe97",
   "metadata": {},
   "outputs": [
    {
     "data": {
      "text/plain": [
       "4"
      ]
     },
     "execution_count": 56,
     "metadata": {},
     "output_type": "execute_result"
    }
   ],
   "source": [
    "str1.count(\"a\")"
   ]
  },
  {
   "cell_type": "code",
   "execution_count": 39,
   "id": "4a7c9fff",
   "metadata": {},
   "outputs": [
    {
     "data": {
      "text/plain": [
       "False"
      ]
     },
     "execution_count": 39,
     "metadata": {},
     "output_type": "execute_result"
    }
   ],
   "source": [
    "str1.isalnum()"
   ]
  },
  {
   "cell_type": "markdown",
   "id": "c70d9d95",
   "metadata": {},
   "source": [
    "Q5)Guess the correct output of the following code?\n",
    "     str1 = \"PYnative\"\n",
    "print(str1[1:4], str1[:5], str1[4:], str1[0:-1], str1[:-1])\n",
    "a)\tPYn PYnat ive PYnativ vitanYP\n",
    "b)\t  Yna PYnat tive PYnativ vitanYP\n",
    "c)\t  Yna PYnat tive PYnativ PYnativ"
   ]
  },
  {
   "cell_type": "code",
   "execution_count": 41,
   "id": "260ae62c",
   "metadata": {},
   "outputs": [
    {
     "name": "stdout",
     "output_type": "stream",
     "text": [
      "Yna PYnat tive PYnativ PYnativ\n"
     ]
    }
   ],
   "source": [
    "str1 = \"PYnative\"\n",
    "print(str1[1:4], str1[:5], str1[4:], str1[0:-1], str1[:-1])"
   ]
  },
  {
   "cell_type": "markdown",
   "id": "bf5fc8d4",
   "metadata": {},
   "source": [
    "Q6)write the correct output of the following String operations\n",
    "        str1 = 'Welcome'\n",
    "print(str1*2)"
   ]
  },
  {
   "cell_type": "code",
   "execution_count": 43,
   "id": "bbaf6b4f",
   "metadata": {},
   "outputs": [
    {
     "name": "stdout",
     "output_type": "stream",
     "text": [
      "WelcomeWelcome\n"
     ]
    }
   ],
   "source": [
    "str1 = 'Welcome'\n",
    "print(str1*2)"
   ]
  },
  {
   "cell_type": "markdown",
   "id": "9f4339ee",
   "metadata": {},
   "source": [
    "Q7)Find all occurrences of “USA” in given string ignoring the case\n",
    "str1 = \"Welcome to USA. usa awesome, isn't it?\"\n",
    "\n",
    "Expected Outcome:\n",
    "The USA count is: 2\n",
    "\n"
   ]
  },
  {
   "cell_type": "code",
   "execution_count": 75,
   "id": "dbc6815d",
   "metadata": {},
   "outputs": [
    {
     "name": "stdout",
     "output_type": "stream",
     "text": [
      "2\n"
     ]
    }
   ],
   "source": [
    "str1 = \"Welcome to USA. usa awesome, isn't it?\"\n",
    "print(str1.lower().count(\"usa\"))"
   ]
  }
 ],
 "metadata": {
  "kernelspec": {
   "display_name": "Python 3 (ipykernel)",
   "language": "python",
   "name": "python3"
  },
  "language_info": {
   "codemirror_mode": {
    "name": "ipython",
    "version": 3
   },
   "file_extension": ".py",
   "mimetype": "text/x-python",
   "name": "python",
   "nbconvert_exporter": "python",
   "pygments_lexer": "ipython3",
   "version": "3.9.7"
  }
 },
 "nbformat": 4,
 "nbformat_minor": 5
}
