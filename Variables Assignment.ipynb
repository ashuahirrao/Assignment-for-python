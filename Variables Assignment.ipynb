{
 "cells": [
  {
   "cell_type": "markdown",
   "id": "588574ad",
   "metadata": {},
   "source": [
    "Q1) Select the right way to create a string literal Ault'Kelly\n",
    "a)str1 = ‘Ault\\\\’Kelly’\n",
    "b)str1 = ‘Ault\\’Kelly’\n",
    "c)str1 = “””Ault’Kelly”””\n",
    "Answer. b)str1 = ‘Ault\\’Kelly’"
   ]
  },
  {
   "cell_type": "code",
   "execution_count": 12,
   "id": "aa31dc76",
   "metadata": {},
   "outputs": [
    {
     "name": "stdout",
     "output_type": "stream",
     "text": [
      "Ault'Kelly\n"
     ]
    }
   ],
   "source": [
    "str1 = 'Ault\\'Kelly'\n",
    "print(str1)"
   ]
  },
  {
   "cell_type": "markdown",
   "id": "14d74373",
   "metadata": {},
   "source": [
    "Q2)2) In Python 3, what is the type of type(range(5))\n",
    "a)\t  int\n",
    "b)\t  list\n",
    "c)\t  range\n",
    "Ans.c)\t  range"
   ]
  },
  {
   "cell_type": "code",
   "execution_count": 1,
   "id": "7e2f2087",
   "metadata": {},
   "outputs": [
    {
     "data": {
      "text/plain": [
       "range"
      ]
     },
     "execution_count": 1,
     "metadata": {},
     "output_type": "execute_result"
    }
   ],
   "source": [
    "type(range(5))"
   ]
  },
  {
   "cell_type": "markdown",
   "id": "1af117ab",
   "metadata": {},
   "source": [
    "Q3)  What is the data type of the following:\n",
    "\n",
    "aTuple = (1, 'Jhon', 1+3j)\n",
    "print(type(aTuple[2:3]))\n",
    "\n",
    "a)list\n",
    "b)complex\n",
    "c)tuple\n",
    "Ans.c)tuple\n"
   ]
  },
  {
   "cell_type": "code",
   "execution_count": 6,
   "id": "dd05d746",
   "metadata": {},
   "outputs": [],
   "source": [
    "aTuple = (1, 'Jhon', 1+3j)"
   ]
  },
  {
   "cell_type": "code",
   "execution_count": 7,
   "id": "0a0f724f",
   "metadata": {},
   "outputs": [
    {
     "name": "stdout",
     "output_type": "stream",
     "text": [
      "<class 'tuple'>\n"
     ]
    }
   ],
   "source": [
    "print(type(aTuple[2:3]))"
   ]
  },
  {
   "cell_type": "markdown",
   "id": "a73e52df",
   "metadata": {},
   "source": [
    "Q4) Select all the valid String creation in Python\n",
    "a)str1 = “str1”\n",
    "b)str1 = ‘str1’\n",
    "c)str1 = ”’str1”’\n",
    "d)str1 = str(“str1”)\n",
    "Ans. a),b),c),d)"
   ]
  },
  {
   "cell_type": "markdown",
   "id": "6587ba03",
   "metadata": {},
   "source": [
    "Ans. a),b),c),d)"
   ]
  },
  {
   "cell_type": "markdown",
   "id": "d4150c33",
   "metadata": {},
   "source": [
    "Q5) What is the data type of print(type(10))\n",
    "a)float\n",
    "b)integer\n",
    "c)int\n",
    "Ans.c)int\n"
   ]
  },
  {
   "cell_type": "code",
   "execution_count": 16,
   "id": "98d37108",
   "metadata": {},
   "outputs": [
    {
     "name": "stdout",
     "output_type": "stream",
     "text": [
      "<class 'int'>\n"
     ]
    }
   ],
   "source": [
    "print(type(10))"
   ]
  },
  {
   "cell_type": "markdown",
   "id": "825c468f",
   "metadata": {},
   "source": [
    "Q6) What is the output of the following code\n",
    "print(bool(0), bool(3.14159), bool(-3), bool(1.0+1j))\n",
    "a)False True False True\n",
    "b)True True False True\n",
    "c)True True False True\n",
    "d)False True True True\n",
    "Ans.d)False True True True\n",
    "\n"
   ]
  },
  {
   "cell_type": "code",
   "execution_count": 17,
   "id": "500d38c9",
   "metadata": {},
   "outputs": [
    {
     "name": "stdout",
     "output_type": "stream",
     "text": [
      "False True True True\n"
     ]
    }
   ],
   "source": [
    "print(bool(0), bool(3.14159), bool(-3), bool(1.0+1j))"
   ]
  },
  {
   "cell_type": "markdown",
   "id": "d0018551",
   "metadata": {},
   "source": [
    "Q7) What is the result of print(type([]) is list)\n",
    "a)False\n",
    "b)True\n",
    "Ans.b)True\n"
   ]
  },
  {
   "cell_type": "code",
   "execution_count": 21,
   "id": "e5552f75",
   "metadata": {},
   "outputs": [
    {
     "name": "stdout",
     "output_type": "stream",
     "text": [
      "True\n"
     ]
    }
   ],
   "source": [
    "print(type([]) is list) "
   ]
  },
  {
   "cell_type": "markdown",
   "id": "6e24d4fb",
   "metadata": {},
   "source": [
    "Q8)  What is the output of the following code?\n",
    "p, q, r = 10, 20 ,30print(p, q, r)\n",
    "a)10 20\n",
    "b)10 20 30\n",
    "c)Error: invalid syntax\n",
    "Ans.b)10 20 30"
   ]
  },
  {
   "cell_type": "code",
   "execution_count": 22,
   "id": "483879ba",
   "metadata": {},
   "outputs": [],
   "source": [
    "p, q, r = 10, 20 ,30"
   ]
  },
  {
   "cell_type": "code",
   "execution_count": 23,
   "id": "74a4368d",
   "metadata": {},
   "outputs": [
    {
     "name": "stdout",
     "output_type": "stream",
     "text": [
      "10 20 30\n"
     ]
    }
   ],
   "source": [
    "print(p, q, r) "
   ]
  },
  {
   "cell_type": "markdown",
   "id": "08ebb496",
   "metadata": {},
   "source": [
    "Q9) A string is immutable in Python?\n",
    "Every time when we modify the string, Python Always create a new String and assign a new string to that variable.\n",
    "\n",
    "a)True\n",
    "b)False\n",
    "Ans.a)True"
   ]
  },
  {
   "cell_type": "markdown",
   "id": "be3e327b",
   "metadata": {},
   "source": [
    "Ans.a)True"
   ]
  },
  {
   "cell_type": "markdown",
   "id": "328565c9",
   "metadata": {},
   "source": [
    "Q10) Identify the following Datatypes:\n",
    "a)“EXCELR” -\n",
    "b)[1,2.3,”apple”] -\n",
    "c)(1,2.3,”apple”) -\n",
    "d)15 -\n",
    "e)15.78 -\n",
    "f)True & False -\n"
   ]
  },
  {
   "cell_type": "code",
   "execution_count": 25,
   "id": "c30c7344",
   "metadata": {},
   "outputs": [
    {
     "name": "stdout",
     "output_type": "stream",
     "text": [
      "<class 'str'>\n"
     ]
    }
   ],
   "source": [
    "str1 = \"EXCELR\"\n",
    "print(type(str1))"
   ]
  },
  {
   "cell_type": "code",
   "execution_count": 26,
   "id": "fb25d86b",
   "metadata": {},
   "outputs": [
    {
     "name": "stdout",
     "output_type": "stream",
     "text": [
      "<class 'list'>\n"
     ]
    }
   ],
   "source": [
    "str2 = [1,2.3,\"apple\"]\n",
    "print(type(str2))"
   ]
  },
  {
   "cell_type": "code",
   "execution_count": 27,
   "id": "f870cabb",
   "metadata": {},
   "outputs": [
    {
     "name": "stdout",
     "output_type": "stream",
     "text": [
      "<class 'tuple'>\n"
     ]
    }
   ],
   "source": [
    "str3 = (1,2.3,\"apple\")\n",
    "print(type(str3))"
   ]
  },
  {
   "cell_type": "code",
   "execution_count": 28,
   "id": "8f6fd2fb",
   "metadata": {},
   "outputs": [
    {
     "name": "stdout",
     "output_type": "stream",
     "text": [
      "<class 'int'>\n"
     ]
    }
   ],
   "source": [
    "print(type(15))"
   ]
  },
  {
   "cell_type": "code",
   "execution_count": 29,
   "id": "2f6e6bec",
   "metadata": {},
   "outputs": [
    {
     "name": "stdout",
     "output_type": "stream",
     "text": [
      "<class 'float'>\n"
     ]
    }
   ],
   "source": [
    "print(type(15.78))"
   ]
  },
  {
   "cell_type": "code",
   "execution_count": 30,
   "id": "a288b0f3",
   "metadata": {},
   "outputs": [
    {
     "name": "stdout",
     "output_type": "stream",
     "text": [
      "<class 'bool'>\n"
     ]
    }
   ],
   "source": [
    "print(type(True & False))"
   ]
  }
 ],
 "metadata": {
  "kernelspec": {
   "display_name": "Python 3 (ipykernel)",
   "language": "python",
   "name": "python3"
  },
  "language_info": {
   "codemirror_mode": {
    "name": "ipython",
    "version": 3
   },
   "file_extension": ".py",
   "mimetype": "text/x-python",
   "name": "python",
   "nbconvert_exporter": "python",
   "pygments_lexer": "ipython3",
   "version": "3.9.7"
  }
 },
 "nbformat": 4,
 "nbformat_minor": 5
}
