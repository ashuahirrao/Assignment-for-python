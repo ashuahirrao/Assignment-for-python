{
 "cells": [
  {
   "cell_type": "markdown",
   "id": "76aa30a5",
   "metadata": {},
   "source": [
    "Q1) Write a Python program to get the current time in Python. \n",
    "Sample Format :  13:19:49.078205"
   ]
  },
  {
   "cell_type": "code",
   "execution_count": 7,
   "id": "043654a1",
   "metadata": {},
   "outputs": [
    {
     "name": "stdout",
     "output_type": "stream",
     "text": [
      "18:03:41.445781\n"
     ]
    }
   ],
   "source": [
    "import datetime\n",
    "print(datetime.datetime.now().time())"
   ]
  },
  {
   "cell_type": "markdown",
   "id": "a8e196b9",
   "metadata": {},
   "source": [
    "Q2) Write a Python program to subtract five days from current date. \n",
    "Sample Date :\n",
    "Current Date : 2015-06-22\n",
    "5 days before Current Date : 2015-06-17\n"
   ]
  },
  {
   "cell_type": "code",
   "execution_count": 8,
   "id": "5c8dd53c",
   "metadata": {},
   "outputs": [
    {
     "name": "stdout",
     "output_type": "stream",
     "text": [
      "Current Date: 2022-02-09\n",
      "5 days before Current Date: 2022-02-04\n"
     ]
    }
   ],
   "source": [
    "from datetime import date , timedelta\n",
    "dt = date.today() - timedelta(5)\n",
    "print(\"Current Date:\",date.today())\n",
    "print(\"5 days before Current Date:\",dt)"
   ]
  },
  {
   "cell_type": "markdown",
   "id": "03f53c5a",
   "metadata": {},
   "source": [
    "Q3) Write a Python script to display the various Date Time formats.\n",
    "a) Current date and time\n",
    "b) Current year\n",
    "c) Month of year\n",
    "d) Week number of the year\n",
    "e) Weekday of the week\n",
    "f) Day of year\n",
    "g) Day of the month\n",
    "h) Day of week"
   ]
  },
  {
   "cell_type": "code",
   "execution_count": 14,
   "id": "aade3042",
   "metadata": {},
   "outputs": [
    {
     "name": "stdout",
     "output_type": "stream",
     "text": [
      "Current date and time:  2022-02-09 18:22:51.723469\n",
      "Current year:  2022\n",
      "Month of year:  February\n",
      "Week number of the year: 06\n",
      "Weekday of the week:  06\n",
      "Day of year:  040\n",
      "Day of the month:  09\n",
      "Day of week:  Wednesday\n"
     ]
    }
   ],
   "source": [
    "import time\n",
    "import datetime\n",
    "print(\"Current date and time: \",datetime.datetime.now())\n",
    "print(\"Current year: \",datetime.date.today().strftime(\"%Y\"))\n",
    "print(\"Month of year: \",datetime.date.today().strftime(\"%B\"))\n",
    "print(\"Week number of the year:\",datetime.date.today().strftime(\"%W\"))\n",
    "print(\"Weekday of the week: \",datetime.date.today().strftime(\"%W\"))\n",
    "print(\"Day of year: \",datetime.date.today().strftime(\"%j\"))\n",
    "print(\"Day of the month: \",datetime.date.today().strftime(\"%d\"))\n",
    "print(\"Day of week: \",datetime.date.today().strftime(\"%A\"))"
   ]
  },
  {
   "cell_type": "markdown",
   "id": "ac969efe",
   "metadata": {},
   "source": [
    "Q4) Write a Python program to convert a string to datetime. \n",
    "\n",
    "Sample String : Jan 1 2014 2:43PM\n",
    "Expected Output : 2014-07-01 14:43:00"
   ]
  },
  {
   "cell_type": "code",
   "execution_count": 10,
   "id": "4534304c",
   "metadata": {},
   "outputs": [
    {
     "name": "stdout",
     "output_type": "stream",
     "text": [
      "2014-07-01 14:43:00\n"
     ]
    }
   ],
   "source": [
    "from datetime import datetime \n",
    "date_object = datetime.strptime('jul 1 2014 2:43PM','%b %d %Y %I:%M%p')\n",
    "print(date_object)"
   ]
  },
  {
   "cell_type": "markdown",
   "id": "75c1546b",
   "metadata": {},
   "source": [
    "Q5) Write a Python program to print yesterday, today, tomorrow"
   ]
  },
  {
   "cell_type": "code",
   "execution_count": 12,
   "id": "8d1bec44",
   "metadata": {},
   "outputs": [
    {
     "name": "stdout",
     "output_type": "stream",
     "text": [
      "Yesterrday: 2022-02-08\n",
      "Today: 2022-02-09\n",
      "Tommorow: 2022-02-10\n"
     ]
    }
   ],
   "source": [
    "import datetime\n",
    "today = datetime.date.today()\n",
    "yesterday = today - datetime.timedelta(days=1)\n",
    "tommorow = today + datetime.timedelta(days=1)\n",
    "print('Yesterrday:',yesterday)\n",
    "print('Today:',today)\n",
    "print('Tommorow:',tommorow)"
   ]
  },
  {
   "cell_type": "markdown",
   "id": "1339379a",
   "metadata": {},
   "source": [
    "Q6) Write a Python program to add 5 seconds with the current time"
   ]
  },
  {
   "cell_type": "code",
   "execution_count": 13,
   "id": "8392b893",
   "metadata": {},
   "outputs": [
    {
     "name": "stdout",
     "output_type": "stream",
     "text": [
      "18:20:06.832675\n",
      "18:20:11.832675\n"
     ]
    }
   ],
   "source": [
    "import datetime \n",
    "x=datetime.datetime.now()\n",
    "y=x+datetime.timedelta(0,5)\n",
    "print(x.time())\n",
    "print(y.time())"
   ]
  },
  {
   "cell_type": "markdown",
   "id": "800df0a6",
   "metadata": {},
   "source": [
    "Q7)  Write a Python program to get week number. \n",
    "Sample Date : 2015, 6, 16\n",
    "Expected Output : 2"
   ]
  },
  {
   "cell_type": "code",
   "execution_count": 16,
   "id": "6558285d",
   "metadata": {},
   "outputs": [
    {
     "name": "stdout",
     "output_type": "stream",
     "text": [
      "25\n"
     ]
    }
   ],
   "source": [
    "import datetime\n",
    "print(datetime.date(2015, 6, 16).isocalendar()[1])"
   ]
  },
  {
   "cell_type": "markdown",
   "id": "ec197186",
   "metadata": {},
   "source": [
    "Q8) Write a Python program to drop microseconds from datetime"
   ]
  },
  {
   "cell_type": "code",
   "execution_count": 17,
   "id": "f883b199",
   "metadata": {},
   "outputs": [
    {
     "name": "stdout",
     "output_type": "stream",
     "text": [
      "\n",
      "2022-02-09 18:29:48\n",
      "\n"
     ]
    }
   ],
   "source": [
    "import datetime\n",
    "dt = datetime.datetime.today().replace(microsecond=0)\n",
    "print()\n",
    "print(dt)\n",
    "print()"
   ]
  },
  {
   "cell_type": "markdown",
   "id": "ada3aa76",
   "metadata": {},
   "source": [
    "Q9) Write a Python program to get days between two dates. \n",
    "Sample Dates : 2000,2,28, 2001,2,28\n",
    "Expected Output : 366 days, 0:00:00"
   ]
  },
  {
   "cell_type": "code",
   "execution_count": 18,
   "id": "eceaf659",
   "metadata": {},
   "outputs": [
    {
     "name": "stdout",
     "output_type": "stream",
     "text": [
      "366 days, 0:00:00\n"
     ]
    }
   ],
   "source": [
    "from datetime import date\n",
    "a=date( 2000,2,28)\n",
    "b=date( 2001,2,28)\n",
    "print(b-a)"
   ]
  },
  {
   "cell_type": "markdown",
   "id": "70a88d0d",
   "metadata": {},
   "source": [
    "Q10)Write a Python program to get the number of days of a given month and year"
   ]
  },
  {
   "cell_type": "code",
   "execution_count": 1,
   "id": "d7a105e2",
   "metadata": {},
   "outputs": [
    {
     "name": "stdout",
     "output_type": "stream",
     "text": [
      "(1, 28)\n"
     ]
    }
   ],
   "source": [
    "from calendar import monthrange\n",
    "year = 2022\n",
    "month = 2\n",
    "print(monthrange(year, month))"
   ]
  },
  {
   "cell_type": "code",
   "execution_count": null,
   "id": "451d30d6",
   "metadata": {},
   "outputs": [],
   "source": []
  },
  {
   "cell_type": "code",
   "execution_count": null,
   "id": "95ae463b",
   "metadata": {},
   "outputs": [],
   "source": []
  },
  {
   "cell_type": "code",
   "execution_count": null,
   "id": "e6d9a517",
   "metadata": {},
   "outputs": [],
   "source": []
  },
  {
   "cell_type": "code",
   "execution_count": null,
   "id": "f43ebc31",
   "metadata": {},
   "outputs": [],
   "source": []
  },
  {
   "cell_type": "code",
   "execution_count": null,
   "id": "8d846218",
   "metadata": {},
   "outputs": [],
   "source": []
  }
 ],
 "metadata": {
  "kernelspec": {
   "display_name": "Python 3 (ipykernel)",
   "language": "python",
   "name": "python3"
  },
  "language_info": {
   "codemirror_mode": {
    "name": "ipython",
    "version": 3
   },
   "file_extension": ".py",
   "mimetype": "text/x-python",
   "name": "python",
   "nbconvert_exporter": "python",
   "pygments_lexer": "ipython3",
   "version": "3.9.7"
  }
 },
 "nbformat": 4,
 "nbformat_minor": 5
}
