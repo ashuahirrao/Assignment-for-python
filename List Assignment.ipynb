{
 "cells": [
  {
   "cell_type": "markdown",
   "id": "2ad8f3b6",
   "metadata": {},
   "source": [
    "\n",
    "Q1) Select all the correct options to join two lists.\n",
    "      listOne  =  ['a', 'b', 'c', 'd']\n",
    "      listTwo =  ['e', 'f', 'g']\n",
    "a)\tnewList = listOne + listTwo\n",
    "b)\t  newList = extend(listOne, listTwo)\n",
    "c)\t  newList = listOne.extend(listTwo)\n",
    "d)\t  newList.extend(listOne, listTwo)\n",
    "Ans.a)\n"
   ]
  },
  {
   "cell_type": "code",
   "execution_count": 1,
   "id": "a19a4930",
   "metadata": {},
   "outputs": [],
   "source": [
    "listOne  =  ['a', 'b', 'c', 'd']\n",
    "listTwo =  ['e', 'f', 'g']"
   ]
  },
  {
   "cell_type": "code",
   "execution_count": 2,
   "id": "5ed02320",
   "metadata": {},
   "outputs": [
    {
     "data": {
      "text/plain": [
       "['a', 'b', 'c', 'd', 'e', 'f', 'g']"
      ]
     },
     "execution_count": 2,
     "metadata": {},
     "output_type": "execute_result"
    }
   ],
   "source": [
    "newList = listOne + listTwo\n",
    "newList"
   ]
  },
  {
   "cell_type": "markdown",
   "id": "78c4c399",
   "metadata": {},
   "source": [
    "Q2) Create an list of elements and execute the following functions: reverse, append, extend,count,sort."
   ]
  },
  {
   "cell_type": "code",
   "execution_count": 15,
   "id": "32dbe91c",
   "metadata": {},
   "outputs": [],
   "source": [
    "list1 = [1,2,1,3,2]"
   ]
  },
  {
   "cell_type": "code",
   "execution_count": 11,
   "id": "dd4ae873",
   "metadata": {},
   "outputs": [
    {
     "data": {
      "text/plain": [
       "[2, 3, 1, 2, 1]"
      ]
     },
     "execution_count": 11,
     "metadata": {},
     "output_type": "execute_result"
    }
   ],
   "source": [
    "list1.reverse()\n",
    "list1"
   ]
  },
  {
   "cell_type": "code",
   "execution_count": 14,
   "id": "d4b5052f",
   "metadata": {},
   "outputs": [
    {
     "data": {
      "text/plain": [
       "[1, 2, 1, 3, 2, 5, 5]"
      ]
     },
     "execution_count": 14,
     "metadata": {},
     "output_type": "execute_result"
    }
   ],
   "source": [
    "list1.append(5)\n",
    "list1"
   ]
  },
  {
   "cell_type": "code",
   "execution_count": 16,
   "id": "2b10ddc3",
   "metadata": {},
   "outputs": [
    {
     "data": {
      "text/plain": [
       "2"
      ]
     },
     "execution_count": 16,
     "metadata": {},
     "output_type": "execute_result"
    }
   ],
   "source": [
    "list1.count(1)"
   ]
  },
  {
   "cell_type": "code",
   "execution_count": 19,
   "id": "a81e6b70",
   "metadata": {
    "scrolled": true
   },
   "outputs": [
    {
     "data": {
      "text/plain": [
       "[1, 1, 2, 2, 3]"
      ]
     },
     "execution_count": 19,
     "metadata": {},
     "output_type": "execute_result"
    }
   ],
   "source": [
    "list1.sort()\n",
    "list1"
   ]
  },
  {
   "cell_type": "markdown",
   "id": "7a53234f",
   "metadata": {},
   "source": [
    "Q3)  Write a Python program to print a specified list after removing the 0th, 4th and 5th elements.\n",
    "Sample List : ['Red', 'Green', 'White', 'Black', 'Pink', 'Yellow']\n",
    "Expected Output : ['Green', 'White', 'Black']\n"
   ]
  },
  {
   "cell_type": "code",
   "execution_count": 32,
   "id": "0519eeb3",
   "metadata": {},
   "outputs": [
    {
     "data": {
      "text/plain": [
       "['Green', 'White', 'Black']"
      ]
     },
     "execution_count": 32,
     "metadata": {},
     "output_type": "execute_result"
    }
   ],
   "source": [
    "list2 = ['Red', 'Green', 'White', 'Black', 'Pink', 'Yellow']\n",
    "list2[1:-2]"
   ]
  },
  {
   "cell_type": "markdown",
   "id": "103de040",
   "metadata": {},
   "source": [
    "Q4) What is the output of the following list operation\n",
    "        aList = [10, 20, 30, 40, 50, 60, 70, 80]\n",
    "print(aList[2:5])\n",
    "print(aList[:4])\n",
    "print(aList[3:])\n"
   ]
  },
  {
   "cell_type": "code",
   "execution_count": 34,
   "id": "7411cfaf",
   "metadata": {},
   "outputs": [],
   "source": [
    "aList = [10, 20, 30, 40, 50, 60, 70, 80]"
   ]
  },
  {
   "cell_type": "code",
   "execution_count": 35,
   "id": "cbde1caa",
   "metadata": {},
   "outputs": [
    {
     "name": "stdout",
     "output_type": "stream",
     "text": [
      "[30, 40, 50]\n"
     ]
    }
   ],
   "source": [
    "print(aList[2:5])"
   ]
  },
  {
   "cell_type": "code",
   "execution_count": 36,
   "id": "667225bd",
   "metadata": {},
   "outputs": [
    {
     "name": "stdout",
     "output_type": "stream",
     "text": [
      "[10, 20, 30, 40]\n"
     ]
    }
   ],
   "source": [
    "print(aList[:4])"
   ]
  },
  {
   "cell_type": "code",
   "execution_count": 37,
   "id": "6f025490",
   "metadata": {},
   "outputs": [
    {
     "name": "stdout",
     "output_type": "stream",
     "text": [
      "[40, 50, 60, 70, 80]\n"
     ]
    }
   ],
   "source": [
    "print(aList[3:])"
   ]
  },
  {
   "cell_type": "markdown",
   "id": "640989d5",
   "metadata": {},
   "source": [
    "Q5) Select all the correct options to copy a list\n",
    "         aList = ['a', 'b', 'c', 'd'] \n",
    "\n",
    "a)\tnewList = copy(aList)\n",
    "b)\t  newList = aList.copy()\n",
    "c)\t  newList.copy(aList)\n",
    "d)\t  newList = list(aList)\n",
    "Ans.b) and d)"
   ]
  },
  {
   "cell_type": "code",
   "execution_count": 41,
   "id": "77337ded",
   "metadata": {},
   "outputs": [],
   "source": [
    "aList = ['a', 'b', 'c', 'd'] "
   ]
  },
  {
   "cell_type": "code",
   "execution_count": 53,
   "id": "f159e412",
   "metadata": {},
   "outputs": [
    {
     "ename": "NameError",
     "evalue": "name 'copy' is not defined",
     "output_type": "error",
     "traceback": [
      "\u001b[1;31m---------------------------------------------------------------------------\u001b[0m",
      "\u001b[1;31mNameError\u001b[0m                                 Traceback (most recent call last)",
      "\u001b[1;32m~\\AppData\\Local\\Temp/ipykernel_14136/2553247419.py\u001b[0m in \u001b[0;36m<module>\u001b[1;34m\u001b[0m\n\u001b[1;32m----> 1\u001b[1;33m \u001b[0mnewList\u001b[0m \u001b[1;33m=\u001b[0m \u001b[0mcopy\u001b[0m\u001b[1;33m(\u001b[0m\u001b[0maList\u001b[0m\u001b[1;33m)\u001b[0m\u001b[1;33m\u001b[0m\u001b[1;33m\u001b[0m\u001b[0m\n\u001b[0m",
      "\u001b[1;31mNameError\u001b[0m: name 'copy' is not defined"
     ]
    }
   ],
   "source": [
    "newList = copy(aList)"
   ]
  },
  {
   "cell_type": "code",
   "execution_count": 42,
   "id": "279b9935",
   "metadata": {},
   "outputs": [
    {
     "data": {
      "text/plain": [
       "['a', 'b', 'c', 'd']"
      ]
     },
     "execution_count": 42,
     "metadata": {},
     "output_type": "execute_result"
    }
   ],
   "source": [
    "newList = aList.copy()\n",
    "newList"
   ]
  },
  {
   "cell_type": "code",
   "execution_count": 49,
   "id": "05eab2ab",
   "metadata": {},
   "outputs": [
    {
     "ename": "TypeError",
     "evalue": "list.copy() takes no arguments (1 given)",
     "output_type": "error",
     "traceback": [
      "\u001b[1;31m---------------------------------------------------------------------------\u001b[0m",
      "\u001b[1;31mTypeError\u001b[0m                                 Traceback (most recent call last)",
      "\u001b[1;32m~\\AppData\\Local\\Temp/ipykernel_14136/1379098461.py\u001b[0m in \u001b[0;36m<module>\u001b[1;34m\u001b[0m\n\u001b[1;32m----> 1\u001b[1;33m \u001b[0mnewList\u001b[0m\u001b[1;33m.\u001b[0m\u001b[0mcopy\u001b[0m\u001b[1;33m(\u001b[0m\u001b[0maList\u001b[0m\u001b[1;33m)\u001b[0m\u001b[1;33m\u001b[0m\u001b[1;33m\u001b[0m\u001b[0m\n\u001b[0m",
      "\u001b[1;31mTypeError\u001b[0m: list.copy() takes no arguments (1 given)"
     ]
    }
   ],
   "source": [
    "newList.copy(aList)"
   ]
  },
  {
   "cell_type": "code",
   "execution_count": 52,
   "id": "b77d64d8",
   "metadata": {},
   "outputs": [
    {
     "data": {
      "text/plain": [
       "['a', 'b', 'c', 'd']"
      ]
     },
     "execution_count": 52,
     "metadata": {},
     "output_type": "execute_result"
    }
   ],
   "source": [
    "newList = list(aList)\n",
    "newList"
   ]
  },
  {
   "cell_type": "markdown",
   "id": "89b6cd89",
   "metadata": {},
   "source": [
    "Q6) Create an list of elements and slice & dice it."
   ]
  },
  {
   "cell_type": "code",
   "execution_count": 3,
   "id": "1fab53e6",
   "metadata": {},
   "outputs": [],
   "source": [
    "list1 = [1,2,1,2,3,4,5,6,7]"
   ]
  },
  {
   "cell_type": "code",
   "execution_count": 5,
   "id": "329a217c",
   "metadata": {},
   "outputs": [
    {
     "data": {
      "text/plain": [
       "[1, 2, 3, 4, 5, 6]"
      ]
     },
     "execution_count": 5,
     "metadata": {},
     "output_type": "execute_result"
    }
   ],
   "source": [
    "list1[2:8]"
   ]
  },
  {
   "cell_type": "markdown",
   "id": "fb7a163c",
   "metadata": {},
   "source": [
    "Q7) Given a Python list you should be able to display Python list in the following order\n",
    "       \n",
    "       aLsit = [100, 200, 300, 400, 500]\n",
    "\n",
    "    Expected output:\n",
    "[500, 400, 300, 200, 100]\n",
    "\n"
   ]
  },
  {
   "cell_type": "code",
   "execution_count": 61,
   "id": "cf461283",
   "metadata": {},
   "outputs": [],
   "source": [
    "List3 = [100, 200, 300, 400, 500]"
   ]
  },
  {
   "cell_type": "code",
   "execution_count": 62,
   "id": "b2131455",
   "metadata": {},
   "outputs": [
    {
     "data": {
      "text/plain": [
       "[500, 400, 300, 200, 100]"
      ]
     },
     "execution_count": 62,
     "metadata": {},
     "output_type": "execute_result"
    }
   ],
   "source": [
    "List3.reverse()\n",
    "List3"
   ]
  },
  {
   "cell_type": "markdown",
   "id": "0fa77c76",
   "metadata": {},
   "source": [
    "Q8) What will be the output of the following code snippet?\n",
    "a=[1,2,3,4,5]\n",
    "print(a[3:0:-1])\n"
   ]
  },
  {
   "cell_type": "code",
   "execution_count": 63,
   "id": "c317b285",
   "metadata": {},
   "outputs": [],
   "source": [
    " a=[1,2,3,4,5] "
   ]
  },
  {
   "cell_type": "code",
   "execution_count": 64,
   "id": "74c059da",
   "metadata": {},
   "outputs": [
    {
     "name": "stdout",
     "output_type": "stream",
     "text": [
      "[4, 3, 2]\n"
     ]
    }
   ],
   "source": [
    "print(a[3:0:-1])"
   ]
  },
  {
   "cell_type": "markdown",
   "id": "5523b5b8",
   "metadata": {},
   "source": [
    "Q9) Add item 7000 after 6000 in the following Python List\n",
    "     \n",
    "    list1 = [10, 20, [300, 400, [5000, 6000], 500], 30, 40]\n",
    "       Expected output:\n",
    "[10, 20, [300, 400, [5000, 6000, 7000], 500], 30, 40]\n"
   ]
  },
  {
   "cell_type": "code",
   "execution_count": 126,
   "id": "e10e1e9d",
   "metadata": {},
   "outputs": [
    {
     "name": "stdout",
     "output_type": "stream",
     "text": [
      "[10, 20, [300, 400, [5000, 6000, 7000], 500], 30, 40]\n"
     ]
    }
   ],
   "source": [
    "list1 = [10, 20, [300, 400, [5000, 6000], 500], 30, 40]\n",
    "list1[2][2].append(7000)\n",
    "print(list1)"
   ]
  }
 ],
 "metadata": {
  "kernelspec": {
   "display_name": "Python 3 (ipykernel)",
   "language": "python",
   "name": "python3"
  },
  "language_info": {
   "codemirror_mode": {
    "name": "ipython",
    "version": 3
   },
   "file_extension": ".py",
   "mimetype": "text/x-python",
   "name": "python",
   "nbconvert_exporter": "python",
   "pygments_lexer": "ipython3",
   "version": "3.9.7"
  }
 },
 "nbformat": 4,
 "nbformat_minor": 5
}
