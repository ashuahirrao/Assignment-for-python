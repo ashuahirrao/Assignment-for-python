{
 "cells": [
  {
   "cell_type": "markdown",
   "id": "1e00e236",
   "metadata": {},
   "source": [
    "Q1)  Select which is true for Python tuple\n",
    "a) A tuple maintains the order of items\n",
    "b) A tuple is unordered\n",
    "c) We cannot change the tuple once created\n",
    "d) We can change the tuple once created\n",
    "\n",
    "\n"
   ]
  },
  {
   "cell_type": "markdown",
   "id": "00d4a04b",
   "metadata": {},
   "source": [
    "Answer: a) A tuple maintains the order of items  c) We cannot change the tuple once created "
   ]
  },
  {
   "cell_type": "markdown",
   "id": "5682648d",
   "metadata": {},
   "source": [
    "Q2) Access value 20 from the following tuple\n",
    "       aTuple = (\"Orange\", [10, 20, 30], (5, 15, 25))\n",
    "Expected output:\n",
    "20\n"
   ]
  },
  {
   "cell_type": "code",
   "execution_count": 1,
   "id": "bbc91b53",
   "metadata": {},
   "outputs": [
    {
     "data": {
      "text/plain": [
       "20"
      ]
     },
     "execution_count": 1,
     "metadata": {},
     "output_type": "execute_result"
    }
   ],
   "source": [
    "aTuple = (\"Orange\", [10, 20, 30], (5, 15, 25))\n",
    "aTuple[1][1]"
   ]
  },
  {
   "cell_type": "markdown",
   "id": "3aecaed8",
   "metadata": {},
   "source": [
    "Q3) Unpack the following tuple into 4 variables\n",
    "aTuple = (10, 20, 30, 40)\n",
    "Expected output:\n",
    "aTuple = (10, 20, 30, 40)\n",
    " #your code\n",
    "print(a) # should print 10\n",
    "print(b) # should print 20\n",
    "print(c) # should print 30\n",
    "print(d) # should print 40\n"
   ]
  },
  {
   "cell_type": "code",
   "execution_count": 2,
   "id": "cdfdb9bb",
   "metadata": {},
   "outputs": [
    {
     "name": "stdout",
     "output_type": "stream",
     "text": [
      "10\n",
      "20\n",
      "30\n",
      "40\n"
     ]
    }
   ],
   "source": [
    "tuple1 = (10, 20, 30, 40)\n",
    "a, b, c, d = tuple1\n",
    "print(a)\n",
    "print(b)\n",
    "print(c)\n",
    "print(d)"
   ]
  },
  {
   "cell_type": "markdown",
   "id": "e326789a",
   "metadata": {},
   "source": [
    "Q4) Copy element 44 and 55 from the following tuple into a new tuple\n",
    "       tuple1 = (11, 22, 33, 44, 55, 66)\n",
    "Expected output:\n",
    "tuple2 = (44, 55)\n"
   ]
  },
  {
   "cell_type": "code",
   "execution_count": 3,
   "id": "937de39b",
   "metadata": {},
   "outputs": [
    {
     "name": "stdout",
     "output_type": "stream",
     "text": [
      "(44, 55)\n"
     ]
    }
   ],
   "source": [
    "tuple1 = (11, 22, 33, 44, 55, 66)\n",
    "tuple2 = tuple1[3:-1]\n",
    "print(tuple2)"
   ]
  },
  {
   "cell_type": "markdown",
   "id": "82a35e26",
   "metadata": {},
   "source": [
    "Q5) Counts the number of occurrences of item 50 from a tuple\n",
    "              tuple1 = (50, 10, 60, 70, 50)\n",
    "\n"
   ]
  },
  {
   "cell_type": "code",
   "execution_count": 4,
   "id": "a832e914",
   "metadata": {},
   "outputs": [
    {
     "name": "stdout",
     "output_type": "stream",
     "text": [
      "2\n"
     ]
    }
   ],
   "source": [
    "tuple1 = (50, 10, 60, 70, 50)\n",
    "print(tuple1.count(50))"
   ]
  },
  {
   "cell_type": "markdown",
   "id": "a1d6f974",
   "metadata": {},
   "source": [
    "Q6) Modify the first item (22) of a list inside a following tuple to 222\n",
    "        tuple1 = (11, [22, 33], 44, 55)\n",
    "Expected output:\n",
    "tuple1 = (11, [222, 33], 44, 55)\n",
    "\n",
    "\n"
   ]
  },
  {
   "cell_type": "code",
   "execution_count": 5,
   "id": "42739827",
   "metadata": {},
   "outputs": [
    {
     "name": "stdout",
     "output_type": "stream",
     "text": [
      "(11, [222, 33], 44, 55)\n"
     ]
    }
   ],
   "source": [
    "tuple1 = (11, [22, 33], 44, 55)\n",
    "tuple1[1][0] = 222\n",
    "print(tuple1)"
   ]
  },
  {
   "cell_type": "markdown",
   "id": "1c3e4a03",
   "metadata": {},
   "source": [
    "Q7) Swap the following two tuples\n",
    "         tuple1 = (11, 22)\n",
    "tuple2 = (99, 88)\n",
    "Expected output:\n",
    "tuple1 = (99, 88)\n",
    "tuple2 = (11, 22)\n"
   ]
  },
  {
   "cell_type": "code",
   "execution_count": 9,
   "id": "7fb8e559",
   "metadata": {},
   "outputs": [],
   "source": [
    "tuple1 = (11, 22)\n",
    "tuple2 = (99, 88)\n",
    "tuple1, tuple2 = tuple2, tuple1\n"
   ]
  },
  {
   "cell_type": "code",
   "execution_count": 10,
   "id": "0d1e6e70",
   "metadata": {},
   "outputs": [
    {
     "name": "stdout",
     "output_type": "stream",
     "text": [
      "(99, 88)\n"
     ]
    }
   ],
   "source": [
    "print(tuple1)"
   ]
  },
  {
   "cell_type": "code",
   "execution_count": 11,
   "id": "1aa1293f",
   "metadata": {},
   "outputs": [
    {
     "name": "stdout",
     "output_type": "stream",
     "text": [
      "(11, 22)\n"
     ]
    }
   ],
   "source": [
    "print(tuple2)"
   ]
  },
  {
   "cell_type": "markdown",
   "id": "df662419",
   "metadata": {},
   "source": [
    "Q8) Reverse the following tuple\n",
    "aTuple = (10, 20, 30, 40, 50)\n",
    "\n",
    "        Expected output:\n",
    "(50, 40, 30, 20, 10)\n"
   ]
  },
  {
   "cell_type": "code",
   "execution_count": 12,
   "id": "6cb6c3b2",
   "metadata": {},
   "outputs": [
    {
     "name": "stdout",
     "output_type": "stream",
     "text": [
      "(50, 40, 30, 20, 10)\n"
     ]
    }
   ],
   "source": [
    "tuple1 = (10, 20, 30, 40, 50)\n",
    "tuple1 = tuple1[::-1]\n",
    "print(tuple1)\n"
   ]
  },
  {
   "cell_type": "markdown",
   "id": "7ddc353a",
   "metadata": {},
   "source": [
    "Q9) Select true statements regarding the Python tuple\n",
    "a)We can remove the item from tuple but we cannot update items of the tuple\n",
    "b)We cannot delete the tuple\n",
    "c) We cannot remove the items from the tuple\n",
    "d) We cannot update items of the tuple.\n",
    "\n"
   ]
  },
  {
   "cell_type": "markdown",
   "id": "949086d7",
   "metadata": {},
   "source": [
    "Answer: c) We cannot remove the items from the tuple d) We cannot update items of the tuple."
   ]
  },
  {
   "cell_type": "code",
   "execution_count": null,
   "id": "863aafd1",
   "metadata": {},
   "outputs": [],
   "source": []
  },
  {
   "cell_type": "code",
   "execution_count": null,
   "id": "07e703a0",
   "metadata": {},
   "outputs": [],
   "source": []
  }
 ],
 "metadata": {
  "kernelspec": {
   "display_name": "Python 3 (ipykernel)",
   "language": "python",
   "name": "python3"
  },
  "language_info": {
   "codemirror_mode": {
    "name": "ipython",
    "version": 3
   },
   "file_extension": ".py",
   "mimetype": "text/x-python",
   "name": "python",
   "nbconvert_exporter": "python",
   "pygments_lexer": "ipython3",
   "version": "3.9.7"
  }
 },
 "nbformat": 4,
 "nbformat_minor": 5
}
