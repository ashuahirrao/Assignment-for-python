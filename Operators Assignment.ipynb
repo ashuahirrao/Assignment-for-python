{
 "cells": [
  {
   "cell_type": "markdown",
   "id": "41cb3958",
   "metadata": {},
   "source": [
    "Q1) What is the output of the following addition (+) operator\n",
    "        a = [10, 20]\n",
    "b = a\n",
    "b += [30, 40]\n",
    "print(a)\n",
    "print(b)\n"
   ]
  },
  {
   "cell_type": "code",
   "execution_count": 6,
   "id": "0899c60a",
   "metadata": {},
   "outputs": [],
   "source": [
    "a = [10, 20] "
   ]
  },
  {
   "cell_type": "code",
   "execution_count": 7,
   "id": "3bc3c858",
   "metadata": {},
   "outputs": [],
   "source": [
    "b = a \n",
    "b += [30, 40]"
   ]
  },
  {
   "cell_type": "code",
   "execution_count": 8,
   "id": "0697e87f",
   "metadata": {},
   "outputs": [
    {
     "name": "stdout",
     "output_type": "stream",
     "text": [
      "[10, 20, 30, 40]\n"
     ]
    }
   ],
   "source": [
    "print(a)"
   ]
  },
  {
   "cell_type": "code",
   "execution_count": 9,
   "id": "4a1a30d8",
   "metadata": {},
   "outputs": [
    {
     "name": "stdout",
     "output_type": "stream",
     "text": [
      "[10, 20, 30, 40]\n"
     ]
    }
   ],
   "source": [
    "print(b)"
   ]
  },
  {
   "cell_type": "markdown",
   "id": "79c784e8",
   "metadata": {},
   "source": [
    "Q2) What is the output of print(2%6)\n",
    "a) ValueError\n",
    "b) 0.33\n",
    "c) 2\n",
    "Ans.c)2"
   ]
  },
  {
   "cell_type": "code",
   "execution_count": 5,
   "id": "cafe8c27",
   "metadata": {},
   "outputs": [
    {
     "name": "stdout",
     "output_type": "stream",
     "text": [
      "2\n"
     ]
    }
   ],
   "source": [
    "print(2%6)"
   ]
  },
  {
   "cell_type": "markdown",
   "id": "648f198f",
   "metadata": {},
   "source": [
    "Q3) What is the output of the following code:\n",
    "print(bool(0), bool(3.14159), bool(-3), bool(1.0+1j))\n",
    "\n",
    "a)True True False True\n",
    "b) False True True True\n",
    "c)True True False True\n",
    "d)False True False True\n",
    "Ans.b) False True True True"
   ]
  },
  {
   "cell_type": "code",
   "execution_count": 10,
   "id": "a8607621",
   "metadata": {},
   "outputs": [
    {
     "name": "stdout",
     "output_type": "stream",
     "text": [
      "False True True True\n"
     ]
    }
   ],
   "source": [
    "print(bool(0), bool(3.14159), bool(-3), bool(1.0+1j))"
   ]
  },
  {
   "cell_type": "markdown",
   "id": "f0a0754a",
   "metadata": {},
   "source": [
    "Q4) What is the output of the expression  print(-18 // 4) ?\n",
    "Ans.-5"
   ]
  },
  {
   "cell_type": "code",
   "execution_count": 11,
   "id": "961310b8",
   "metadata": {},
   "outputs": [
    {
     "name": "stdout",
     "output_type": "stream",
     "text": [
      "-5\n"
     ]
    }
   ],
   "source": [
    " print(-18 // 4)"
   ]
  },
  {
   "cell_type": "markdown",
   "id": "4585752e",
   "metadata": {},
   "source": [
    "Q5) What is the output of print(2 ** 3 ** 2) ?\n",
    "Ans.512"
   ]
  },
  {
   "cell_type": "code",
   "execution_count": 12,
   "id": "d12f4e88",
   "metadata": {},
   "outputs": [
    {
     "name": "stdout",
     "output_type": "stream",
     "text": [
      "512\n"
     ]
    }
   ],
   "source": [
    " print(2 ** 3 ** 2)"
   ]
  },
  {
   "cell_type": "markdown",
   "id": "321b49c7",
   "metadata": {},
   "source": [
    "Q6) 4 is 100 in binary and 11 is 1011. What is the output of the following bitwise operators?\n",
    "          a = 4\n",
    "b = 11\n",
    "print(a | b)\n",
    "print(a >> 2)\n",
    "Ans.print(a | b) = 15\n",
    "    print(a >> 2) = 1"
   ]
  },
  {
   "cell_type": "code",
   "execution_count": 13,
   "id": "8ef520b4",
   "metadata": {},
   "outputs": [],
   "source": [
    "a = 4     \n",
    "b = 11 "
   ]
  },
  {
   "cell_type": "code",
   "execution_count": 14,
   "id": "0a35e607",
   "metadata": {},
   "outputs": [
    {
     "name": "stdout",
     "output_type": "stream",
     "text": [
      "15\n"
     ]
    }
   ],
   "source": [
    "print(a | b)"
   ]
  },
  {
   "cell_type": "code",
   "execution_count": 15,
   "id": "604590e4",
   "metadata": {},
   "outputs": [
    {
     "name": "stdout",
     "output_type": "stream",
     "text": [
      "1\n"
     ]
    }
   ],
   "source": [
    "print(a >> 2)"
   ]
  },
  {
   "cell_type": "markdown",
   "id": "da761c7b",
   "metadata": {},
   "source": [
    "Q7) What is the value of the following Python Expression\n",
    "print(36 / 4)\n",
    "Ans.9.0  "
   ]
  },
  {
   "cell_type": "code",
   "execution_count": 16,
   "id": "32156797",
   "metadata": {},
   "outputs": [
    {
     "name": "stdout",
     "output_type": "stream",
     "text": [
      "9.0\n"
     ]
    }
   ],
   "source": [
    "print(36 / 4)"
   ]
  },
  {
   "cell_type": "markdown",
   "id": "06644d10",
   "metadata": {},
   "source": [
    "Q8) What is the output of the following assignment operator\n",
    "       y = 10\n",
    "x = y += 2\n",
    "print(x)\n",
    "Ans.10"
   ]
  },
  {
   "cell_type": "code",
   "execution_count": 18,
   "id": "64fad243",
   "metadata": {},
   "outputs": [],
   "source": [
    "y = 10\n",
    "x = y \n",
    "y += 2"
   ]
  },
  {
   "cell_type": "code",
   "execution_count": 19,
   "id": "91e97fd3",
   "metadata": {},
   "outputs": [
    {
     "name": "stdout",
     "output_type": "stream",
     "text": [
      "10\n"
     ]
    }
   ],
   "source": [
    "print(x)"
   ]
  },
  {
   "cell_type": "markdown",
   "id": "0d34d8f6",
   "metadata": {},
   "source": [
    "Q9) What is the output of print(2 * 3 ** 3 * 4)\n",
    "Ans.216"
   ]
  },
  {
   "cell_type": "code",
   "execution_count": 20,
   "id": "6641b13f",
   "metadata": {},
   "outputs": [
    {
     "name": "stdout",
     "output_type": "stream",
     "text": [
      "216\n"
     ]
    }
   ],
   "source": [
    "print(2 * 3 ** 3 * 4)"
   ]
  },
  {
   "cell_type": "markdown",
   "id": "63be254c",
   "metadata": {},
   "source": [
    "Q10) Which of the following operators has the highest precedence?"
   ]
  },
  {
   "cell_type": "markdown",
   "id": "bd536510",
   "metadata": {},
   "source": [
    "operators are not given."
   ]
  },
  {
   "cell_type": "markdown",
   "id": "ed373fee",
   "metadata": {},
   "source": [
    "Q11) What is the output of print(10 - 4 * 2) ?\n",
    "Ans.2"
   ]
  },
  {
   "cell_type": "code",
   "execution_count": 21,
   "id": "3071fa05",
   "metadata": {},
   "outputs": [
    {
     "name": "stdout",
     "output_type": "stream",
     "text": [
      "2\n"
     ]
    }
   ],
   "source": [
    " print(10 - 4 * 2) "
   ]
  },
  {
   "cell_type": "markdown",
   "id": "4e97dd28",
   "metadata": {},
   "source": [
    "Q12) What is the output of the following code:\n",
    "        x = 6\n",
    "y = 2\n",
    "print(x ** y)\n",
    "print(x // y)\n",
    "Ans. print(x ** y) = 36\n",
    "     print(x // y) = 3"
   ]
  },
  {
   "cell_type": "code",
   "execution_count": 22,
   "id": "cffcf1a6",
   "metadata": {},
   "outputs": [],
   "source": [
    "x = 6 \n",
    "y = 2 "
   ]
  },
  {
   "cell_type": "code",
   "execution_count": 23,
   "id": "c6e78613",
   "metadata": {},
   "outputs": [
    {
     "name": "stdout",
     "output_type": "stream",
     "text": [
      "36\n"
     ]
    }
   ],
   "source": [
    "print(x ** y)"
   ]
  },
  {
   "cell_type": "code",
   "execution_count": 24,
   "id": "46406272",
   "metadata": {},
   "outputs": [
    {
     "name": "stdout",
     "output_type": "stream",
     "text": [
      "3\n"
     ]
    }
   ],
   "source": [
    "print(x // y)"
   ]
  }
 ],
 "metadata": {
  "kernelspec": {
   "display_name": "Python 3 (ipykernel)",
   "language": "python",
   "name": "python3"
  },
  "language_info": {
   "codemirror_mode": {
    "name": "ipython",
    "version": 3
   },
   "file_extension": ".py",
   "mimetype": "text/x-python",
   "name": "python",
   "nbconvert_exporter": "python",
   "pygments_lexer": "ipython3",
   "version": "3.9.7"
  }
 },
 "nbformat": 4,
 "nbformat_minor": 5
}
